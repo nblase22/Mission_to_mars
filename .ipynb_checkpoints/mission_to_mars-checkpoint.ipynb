{
 "cells": [
  {
   "cell_type": "code",
   "execution_count": 1,
   "metadata": {
    "collapsed": true
   },
   "outputs": [],
   "source": [
    "import time\n",
    "from splinter import Browser\n",
    "from bs4 import BeautifulSoup\n",
    "import pandas as pd\n",
    "from selenium import webdriver"
   ]
  },
  {
   "cell_type": "code",
   "execution_count": 2,
   "metadata": {
    "collapsed": true
   },
   "outputs": [],
   "source": [
    "def init_browser():\n",
    "    executable_path = {\"executable_path\": 'chromedriver.exe'}\n",
    "    return Browser(\"chrome\", **executable_path, headless=False)"
   ]
  },
  {
   "cell_type": "code",
   "execution_count": 7,
   "metadata": {},
   "outputs": [
    {
     "name": "stdout",
     "output_type": "stream",
     "text": [
      "Mars Mission Sheds Light on Habitability of Distant Planets\n",
      "How long might a rocky, Mars-like planet be habitable if it were orbiting a red dwarf star?\n"
     ]
    }
   ],
   "source": [
    "def scrape():\n",
    "    # initialize browser\n",
    "    browser = init_browser()\n",
    "    \n",
    "    #create blank dictionary for returns\n",
    "    mars_news = {}\n",
    "    \n",
    "    # set the url and visit\n",
    "    url = \"https://mars.nasa.gov/news/\"\n",
    "    browser.visit(url)\n",
    "    time.sleep(1)\n",
    "    \n",
    "    html = browser.html\n",
    "    soup = BeautifulSoup(html, \"lxml\")\n",
    "    \n",
    "    mars_news[\"news_title\"] = soup.find(\"div\", class_=\"content_title\").next_element.get_text()\n",
    "    mars_news[\"news_p\"] = soup.find(\"div\", class_=\"article_teaser_body\").get_text()\n",
    "    \n",
    "    return mars_news\n",
    "\n",
    "mars = scrape()\n",
    "print(mars[\"news_title\"])\n",
    "print(mars[\"news_p\"])"
   ]
  },
  {
   "cell_type": "code",
   "execution_count": 20,
   "metadata": {},
   "outputs": [
    {
     "name": "stdout",
     "output_type": "stream",
     "text": [
      "https://www.jpl.nasa.gov/spaceimages/images/mediumsize/PIA18292_ip.jpg\n"
     ]
    }
   ],
   "source": [
    "def scrape_img():\n",
    "    browser = init_browser()\n",
    "    url = \"https://www.jpl.nasa.gov/spaceimages/?search=&category=Mars\"\n",
    "    \n",
    "    browser.visit(url)\n",
    "    time.sleep(1)\n",
    "    \n",
    "    html = browser.html\n",
    "    soup = BeautifulSoup(html, 'lxml')\n",
    "\n",
    "    image = soup.find('a', class_='button fancybox')\n",
    "    featured_image_url = \"https://www.jpl.nasa.gov\" + image[\"data-fancybox-href\"]\n",
    "    \n",
    "    return featured_image_url\n",
    "\n",
    "featured_image_url = scrape_img()\n",
    "print(featured_image_url)"
   ]
  },
  {
   "cell_type": "code",
   "execution_count": 30,
   "metadata": {},
   "outputs": [
    {
     "name": "stdout",
     "output_type": "stream",
     "text": [
      "Sol 1910 (Dec 20, 2017), Sunny, high -23C/-9F, low -80C/-112F, pressure at 7.94 hPa, daylight 05:49-17:32\n"
     ]
    }
   ],
   "source": [
    "def weather_scrape():\n",
    "    browser = init_browser()\n",
    "    url = \"https://twitter.com/marswxreport?lang=en\"\n",
    "    \n",
    "    browser.visit(url)\n",
    "    time.sleep(1)\n",
    "    \n",
    "    html = browser.html\n",
    "    soup = BeautifulSoup(html, 'lxml')\n",
    "    \n",
    "    weather = soup.find_all('p', class_='TweetTextSize TweetTextSize--normal js-tweet-text tweet-text')\n",
    "    \n",
    "    for i in weather:\n",
    "        j = i.text.split()\n",
    "        if j[0] != \"Sol\":\n",
    "            continue\n",
    "        else:\n",
    "            mars_weather = i.text\n",
    "            break\n",
    "\n",
    "    \n",
    "        \n",
    "    return mars_weather\n",
    "\n",
    "mars_weather = weather_scrape()\n",
    "print(mars_weather)"
   ]
  },
  {
   "cell_type": "code",
   "execution_count": null,
   "metadata": {
    "collapsed": true
   },
   "outputs": [],
   "source": [
    "def fact_scrape():\n",
    "    browser = init_browser()\n",
    "    url = \n",
    "    \n",
    "    browser.visit(url)\n",
    "    time.sleep(1)\n",
    "    \n",
    "    html = browser.html\n",
    "    soup = BeautifulSoup(html, 'lxml')\n",
    "    \n",
    "    "
   ]
  }
 ],
 "metadata": {
  "kernelspec": {
   "display_name": "Python [conda env:PythonData]",
   "language": "python",
   "name": "conda-env-PythonData-py"
  },
  "language_info": {
   "codemirror_mode": {
    "name": "ipython",
    "version": 3
   },
   "file_extension": ".py",
   "mimetype": "text/x-python",
   "name": "python",
   "nbconvert_exporter": "python",
   "pygments_lexer": "ipython3",
   "version": "3.6.1"
  }
 },
 "nbformat": 4,
 "nbformat_minor": 2
}
