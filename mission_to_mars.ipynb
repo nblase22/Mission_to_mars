{
 "cells": [
  {
   "cell_type": "code",
   "execution_count": 1,
   "metadata": {
    "collapsed": true
   },
   "outputs": [],
   "source": [
    "import time\n",
    "from splinter import Browser\n",
    "from bs4 import BeautifulSoup\n",
    "import pandas as pd\n",
    "from selenium import webdriver"
   ]
  },
  {
   "cell_type": "code",
   "execution_count": 2,
   "metadata": {
    "collapsed": true
   },
   "outputs": [],
   "source": [
    "def init_browser():\n",
    "    executable_path = {\"executable_path\": 'chromedriver.exe'}\n",
    "    return Browser(\"chrome\", **executable_path, headless=False)"
   ]
  },
  {
   "cell_type": "code",
   "execution_count": 3,
   "metadata": {},
   "outputs": [
    {
     "name": "stdout",
     "output_type": "stream",
     "text": [
      "Mars Mission Sheds Light on Habitability of Distant Planets\n",
      "How long might a rocky, Mars-like planet be habitable if it were orbiting a red dwarf star?\n"
     ]
    }
   ],
   "source": [
    "def scrape():\n",
    "    # initialize browser\n",
    "    browser = init_browser()\n",
    "    \n",
    "    #create blank dictionary for returns\n",
    "    mars_news = {}\n",
    "    \n",
    "    # set the url and visit\n",
    "    url = \"https://mars.nasa.gov/news/\"\n",
    "    browser.visit(url)\n",
    "    time.sleep(1)\n",
    "    \n",
    "    html = browser.html\n",
    "    soup = BeautifulSoup(html, \"lxml\")\n",
    "    \n",
    "    mars_news[\"news_title\"] = soup.find(\"div\", class_=\"content_title\").next_element.get_text()\n",
    "    mars_news[\"news_p\"] = soup.find(\"div\", class_=\"article_teaser_body\").get_text()\n",
    "    \n",
    "    return mars_news\n",
    "\n",
    "mars = scrape()\n",
    "print(mars[\"news_title\"])\n",
    "print(mars[\"news_p\"])"
   ]
  },
  {
   "cell_type": "code",
   "execution_count": 5,
   "metadata": {},
   "outputs": [
    {
     "name": "stdout",
     "output_type": "stream",
     "text": [
      "https://www.jpl.nasa.gov/spaceimages/images/mediumsize/PIA08097_ip.jpg\n"
     ]
    }
   ],
   "source": [
    "def scrape_img():\n",
    "    browser = init_browser()\n",
    "    url = \"https://www.jpl.nasa.gov/spaceimages/?search=&category=Mars\"\n",
    "    \n",
    "    browser.visit(url)\n",
    "    time.sleep(1)\n",
    "    \n",
    "    html = browser.html\n",
    "    soup = BeautifulSoup(html, 'lxml')\n",
    "\n",
    "    image = soup.find('a', class_='button fancybox')\n",
    "    featured_image_url = \"https://www.jpl.nasa.gov\" + image[\"data-fancybox-href\"]\n",
    "    \n",
    "    return featured_image_url\n",
    "\n",
    "featured_image_url = scrape_img()\n",
    "print(featured_image_url)"
   ]
  },
  {
   "cell_type": "code",
   "execution_count": 35,
   "metadata": {},
   "outputs": [
    {
     "name": "stdout",
     "output_type": "stream",
     "text": [
      "Sol 1917 (Dec 27, 2017), Sunny, high -19C/-2F, low -80C/-112F, pressure at 7.86 hPa, daylight 05:48-17:31\n"
     ]
    }
   ],
   "source": [
    "def weather_scrape():\n",
    "    browser = init_browser()\n",
    "    url = \"https://twitter.com/marswxreport?lang=en\"\n",
    "    \n",
    "    browser.visit(url)\n",
    "    time.sleep(1)\n",
    "    \n",
    "    html = browser.html\n",
    "    soup = BeautifulSoup(html, 'lxml')\n",
    "    \n",
    "    weather = soup.find_all('p', class_='TweetTextSize TweetTextSize--normal js-tweet-text tweet-text')\n",
    "    \n",
    "    for i in weather:\n",
    "        j = i.text.split()\n",
    "        if j[0] != \"Sol\":\n",
    "            continue\n",
    "        else:\n",
    "            mars_weather = i.text\n",
    "            break\n",
    "\n",
    "    \n",
    "        \n",
    "    return mars_weather\n",
    "\n",
    "mars_weather = weather_scrape()\n",
    "print(mars_weather)"
   ]
  },
  {
   "cell_type": "code",
   "execution_count": 11,
   "metadata": {},
   "outputs": [
    {
     "data": {
      "text/html": [
       "<div>\n",
       "<style>\n",
       "    .dataframe thead tr:only-child th {\n",
       "        text-align: right;\n",
       "    }\n",
       "\n",
       "    .dataframe thead th {\n",
       "        text-align: left;\n",
       "    }\n",
       "\n",
       "    .dataframe tbody tr th {\n",
       "        vertical-align: top;\n",
       "    }\n",
       "</style>\n",
       "<table border=\"1\" class=\"dataframe\">\n",
       "  <thead>\n",
       "    <tr style=\"text-align: right;\">\n",
       "      <th></th>\n",
       "      <th>Characteristic</th>\n",
       "      <th>Measurement</th>\n",
       "    </tr>\n",
       "  </thead>\n",
       "  <tbody>\n",
       "    <tr>\n",
       "      <th>0</th>\n",
       "      <td>Equatorial Diameter:</td>\n",
       "      <td>6,792 km</td>\n",
       "    </tr>\n",
       "    <tr>\n",
       "      <th>1</th>\n",
       "      <td>Polar Diameter:</td>\n",
       "      <td>6,752 km</td>\n",
       "    </tr>\n",
       "    <tr>\n",
       "      <th>2</th>\n",
       "      <td>Mass:</td>\n",
       "      <td>6.42 x 10^23 kg (10.7% Earth)</td>\n",
       "    </tr>\n",
       "    <tr>\n",
       "      <th>3</th>\n",
       "      <td>Moons:</td>\n",
       "      <td>2 (Phobos &amp; Deimos)</td>\n",
       "    </tr>\n",
       "    <tr>\n",
       "      <th>4</th>\n",
       "      <td>Orbit Distance:</td>\n",
       "      <td>227,943,824 km (1.52 AU)</td>\n",
       "    </tr>\n",
       "  </tbody>\n",
       "</table>\n",
       "</div>"
      ],
      "text/plain": [
       "         Characteristic                    Measurement\n",
       "0  Equatorial Diameter:                       6,792 km\n",
       "1       Polar Diameter:                       6,752 km\n",
       "2                 Mass:  6.42 x 10^23 kg (10.7% Earth)\n",
       "3                Moons:            2 (Phobos & Deimos)\n",
       "4       Orbit Distance:       227,943,824 km (1.52 AU)"
      ]
     },
     "execution_count": 11,
     "metadata": {},
     "output_type": "execute_result"
    }
   ],
   "source": [
    "def fact_scrape():\n",
    "    url = \"https://space-facts.com/mars/\"\n",
    "    \n",
    "    mars_table = pd.read_html(url)\n",
    "    \n",
    "    return mars_table\n",
    "\n",
    "table = fact_scrape()\n",
    "\n",
    "mars_fact_df = table[0]\n",
    "mars_fact_df.columns = [\"Characteristic\", \"Measurement\"]\n",
    "\n",
    "mars_fact_df.head()\n",
    "    "
   ]
  },
  {
   "cell_type": "code",
   "execution_count": 32,
   "metadata": {},
   "outputs": [],
   "source": [
    "\n",
    "browser = init_browser()\n",
    "url = \"https://astrogeology.usgs.gov/search/results?q=hemisphere+enhanced&k1=target&v1=Mars\"\n",
    "base_url = \"https://astrogeology.usgs.gov\"\n",
    "\n",
    "browser.visit(url)\n",
    "time.sleep(1)\n",
    "\n",
    "html = browser.html\n",
    "soup = BeautifulSoup(html, 'lxml')\n",
    "\n",
    "url_list = []\n",
    "title_list =[]\n",
    "jpg_url_list =[]\n",
    "hemisphere_image_urls = []\n",
    "\n",
    "results = soup.find('div', class_=\"collapsible results\")\n",
    "links = results.find_all('a', class_=\"item product-item\")\n",
    "titles= results.find_all('h3')\n",
    "\n",
    "for link in links:\n",
    "    url_list.append(base_url+link[\"href\"])\n",
    "    \n",
    "for title in titles:\n",
    "    title_list.append(title.text)\n",
    "    \n",
    "for item in url_list:\n",
    "    browser.visit(item)\n",
    "    time.sleep(1)\n",
    "    \n",
    "    html = browser.html\n",
    "    soup = BeautifulSoup(html, 'lxml')\n",
    "    \n",
    "    downloads = soup.find('div', class_=\"downloads\")\n",
    "    jpg = downloads.find_all('a')\n",
    "    jpg_url = jpg[0][\"href\"]\n",
    "    jpg_url_list.append(jpg_url)\n",
    "    \n",
    "\n",
    "for i in range(0,len(title_list)):\n",
    "    hemisphere_image_urls.append({\"title\": title_list[i], \"img_url\": jpg_url_list[i]})"
   ]
  },
  {
   "cell_type": "code",
   "execution_count": 39,
   "metadata": {},
   "outputs": [],
   "source": [
    "scraped_data = {}\n",
    "\n",
    "scraped_data[\"news\"] = mars\n",
    "scraped_data[\"feat_img\"] = featured_image_url\n",
    "scraped_data[\"weather\"] = mars_weather\n",
    "scraped_data[\"facts\"] = table\n",
    "scraped_data[\"hemispheres\"] = hemisphere_image_urls"
   ]
  },
  {
   "cell_type": "code",
   "execution_count": 40,
   "metadata": {},
   "outputs": [
    {
     "data": {
      "text/plain": [
       "{'facts': [         Characteristic                    Measurement\n",
       "  0  Equatorial Diameter:                       6,792 km\n",
       "  1       Polar Diameter:                       6,752 km\n",
       "  2                 Mass:  6.42 x 10^23 kg (10.7% Earth)\n",
       "  3                Moons:            2 (Phobos & Deimos)\n",
       "  4       Orbit Distance:       227,943,824 km (1.52 AU)\n",
       "  5         Orbit Period:           687 days (1.9 years)\n",
       "  6  Surface Temperature:                  -153 to 20 °C\n",
       "  7         First Record:              2nd millennium BC\n",
       "  8          Recorded By:           Egyptian astronomers],\n",
       " 'feat_img': 'https://www.jpl.nasa.gov/spaceimages/images/mediumsize/PIA08097_ip.jpg',\n",
       " 'hemispheres': [{'img_url': 'http://astropedia.astrogeology.usgs.gov/download/Mars/Viking/cerberus_enhanced.tif/full.jpg',\n",
       "   'title': 'Cerberus Hemisphere Enhanced'},\n",
       "  {'img_url': 'http://astropedia.astrogeology.usgs.gov/download/Mars/Viking/schiaparelli_enhanced.tif/full.jpg',\n",
       "   'title': 'Schiaparelli Hemisphere Enhanced'},\n",
       "  {'img_url': 'http://astropedia.astrogeology.usgs.gov/download/Mars/Viking/syrtis_major_enhanced.tif/full.jpg',\n",
       "   'title': 'Syrtis Major Hemisphere Enhanced'},\n",
       "  {'img_url': 'http://astropedia.astrogeology.usgs.gov/download/Mars/Viking/valles_marineris_enhanced.tif/full.jpg',\n",
       "   'title': 'Valles Marineris Hemisphere Enhanced'}],\n",
       " 'news': {'news_p': 'How long might a rocky, Mars-like planet be habitable if it were orbiting a red dwarf star?',\n",
       "  'news_title': 'Mars Mission Sheds Light on Habitability of Distant Planets'},\n",
       " 'weather': 'Sol 1917 (Dec 27, 2017), Sunny, high -19C/-2F, low -80C/-112F, pressure at 7.86 hPa, daylight 05:48-17:31'}"
      ]
     },
     "execution_count": 40,
     "metadata": {},
     "output_type": "execute_result"
    }
   ],
   "source": [
    "scraped_data"
   ]
  },
  {
   "cell_type": "code",
   "execution_count": null,
   "metadata": {
    "collapsed": true
   },
   "outputs": [],
   "source": []
  }
 ],
 "metadata": {
  "kernelspec": {
   "display_name": "Python [conda env:PythonData]",
   "language": "python",
   "name": "conda-env-PythonData-py"
  },
  "language_info": {
   "codemirror_mode": {
    "name": "ipython",
    "version": 3
   },
   "file_extension": ".py",
   "mimetype": "text/x-python",
   "name": "python",
   "nbconvert_exporter": "python",
   "pygments_lexer": "ipython3",
   "version": "3.6.1"
  }
 },
 "nbformat": 4,
 "nbformat_minor": 2
}
